{
 "cells": [
  {
   "cell_type": "markdown",
   "metadata": {
    "deletable": true,
    "editable": true
   },
   "source": [
    "### Άσκηση 3 του φυλλάδιου ασκήσεων 15/03/2018 \n",
    "\n",
    "Το φύλλο εργασίας Jupyter/SageMath για τον υπολογισμό των παραγώγων Lie.\n",
    "\n",
    "Έχουμε τα διανυσματικά πεδία $X,Y,Z$ και την 1-μορφή $\\omega$"
   ]
  },
  {
   "cell_type": "markdown",
   "metadata": {},
   "source": [
    "\\begin{align}\n",
    "  X(x,y,z) &= x\\,\\partial_x + 2\\,y\\,\\partial_y\\,, &\\omega = x\\,{\\rm d} x\n",
    "  - y\\,{\\rm d}y + {\\rm d} z\\,,\\\\  \n",
    "  Y(x,y,z) &= 2\\,y\\,\\partial_x-x\\,z\\,\\partial_z\\,, & \\\\\n",
    "  Z(x,y,z) &= 4\\,x\\,y\\,\\partial_x + 4\\,y^2\\,\\partial_y -\n",
    "  (x^2+2\\,y)\\,z\\, \\partial_z\\,. &\n",
    "\\end{align}  "
   ]
  },
  {
   "cell_type": "markdown",
   "metadata": {},
   "source": [
    "Θέλουμε να υπολογίσουμε τις παραγώγους Lie $\\mathcal{L}_X Y$, $\\mathcal{L}_XZ$, $\\mathcal{L}_Y Z$, $\\mathcal{L}_X\\omega$ και $\\mathcal{L}_Y\\omega$."
   ]
  },
  {
   "cell_type": "code",
   "execution_count": 1,
   "metadata": {
    "collapsed": true
   },
   "outputs": [],
   "source": [
    "%display latex"
   ]
  },
  {
   "cell_type": "markdown",
   "metadata": {
    "deletable": true,
    "editable": true
   },
   "source": [
    "Πρώτα απ'όλα ορίζουμε στο Sage την πολλαπλότητα $M=\\mathbb{R}^3$, κι ένα χάρτη της $(U,\\phi)$ με συντεταγμένες $(x,y,z)$"
   ]
  },
  {
   "cell_type": "code",
   "execution_count": 2,
   "metadata": {
    "collapsed": true,
    "deletable": true,
    "editable": true
   },
   "outputs": [],
   "source": [
    "M = Manifold(3, 'R^3', '\\RR^3', start_index=1)\n",
    "U.<x,y,z> = M.chart()"
   ]
  },
  {
   "cell_type": "code",
   "execution_count": 3,
   "metadata": {
    "collapsed": false,
    "deletable": true,
    "editable": true
   },
   "outputs": [
    {
     "name": "stdout",
     "output_type": "stream",
     "text": [
      "3-dimensional differentiable manifold R^3\n",
      "Chart (R^3, (x, y, z))\n"
     ]
    }
   ],
   "source": [
    "print M ; \n",
    "print U ;"
   ]
  },
  {
   "cell_type": "markdown",
   "metadata": {
    "deletable": true,
    "editable": true
   },
   "source": [
    "Στην συνέχεια ορίζουμε τα διανυσματικά πεδία $X,Y,Z$ και την 1-μορφή $\\omega$"
   ]
  },
  {
   "cell_type": "code",
   "execution_count": 4,
   "metadata": {
    "collapsed": false,
    "deletable": true,
    "editable": true
   },
   "outputs": [
    {
     "data": {
      "text/html": [
       "<html><script type=\"math/tex; mode=display\">\\newcommand{\\Bold}[1]{\\mathbf{#1}}X = x \\frac{\\partial}{\\partial x } + 2 \\, y \\frac{\\partial}{\\partial y }</script></html>"
      ],
      "text/plain": [
       "X = x d/dx + 2*y d/dy"
      ]
     },
     "execution_count": 4,
     "metadata": {},
     "output_type": "execute_result"
    }
   ],
   "source": [
    "X = M.vector_field('X')\n",
    "X[ : ] = ( x , 2*y , 0 )\n",
    "X.display()"
   ]
  },
  {
   "cell_type": "code",
   "execution_count": 5,
   "metadata": {
    "collapsed": false,
    "deletable": true,
    "editable": true
   },
   "outputs": [
    {
     "data": {
      "text/html": [
       "<html><script type=\"math/tex; mode=display\">\\newcommand{\\Bold}[1]{\\mathbf{#1}}Y = 2 \\, y \\frac{\\partial}{\\partial x } -x z \\frac{\\partial}{\\partial z }</script></html>"
      ],
      "text/plain": [
       "Y = 2*y d/dx - x*z d/dz"
      ]
     },
     "execution_count": 5,
     "metadata": {},
     "output_type": "execute_result"
    }
   ],
   "source": [
    "Y = M.vector_field('Y')\n",
    "Y[ : ] = ( 2*y , 0, -x*z )\n",
    "Y.display()"
   ]
  },
  {
   "cell_type": "code",
   "execution_count": 6,
   "metadata": {
    "collapsed": false,
    "deletable": true,
    "editable": true
   },
   "outputs": [
    {
     "data": {
      "text/html": [
       "<html><script type=\"math/tex; mode=display\">\\newcommand{\\Bold}[1]{\\mathbf{#1}}Z = 4 \\, x y \\frac{\\partial}{\\partial x } + 4 \\, y^{2} \\frac{\\partial}{\\partial y } -{\\left(x^{2} + 2 \\, y\\right)} z \\frac{\\partial}{\\partial z }</script></html>"
      ],
      "text/plain": [
       "Z = 4*x*y d/dx + 4*y^2 d/dy - (x^2 + 2*y)*z d/dz"
      ]
     },
     "execution_count": 6,
     "metadata": {},
     "output_type": "execute_result"
    }
   ],
   "source": [
    "Z = M.vector_field('Z')\n",
    "Z[ : ] = ( 4*x*y , 4*y^2 , -(x^2+2*y)*z )\n",
    "Z.display()"
   ]
  },
  {
   "cell_type": "code",
   "execution_count": 7,
   "metadata": {
    "collapsed": false,
    "deletable": true,
    "editable": true
   },
   "outputs": [
    {
     "data": {
      "text/html": [
       "<html><script type=\"math/tex; mode=display\">\\newcommand{\\Bold}[1]{\\mathbf{#1}}w = x \\mathrm{d} x -y \\mathrm{d} y +\\mathrm{d} z</script></html>"
      ],
      "text/plain": [
       "w = x dx - y dy + dz"
      ]
     },
     "execution_count": 7,
     "metadata": {},
     "output_type": "execute_result"
    }
   ],
   "source": [
    "w = M.diff_form(1, name='w')\n",
    "w[ : ] = ( x , -y , 1 )\n",
    "w.display()"
   ]
  },
  {
   "cell_type": "markdown",
   "metadata": {
    "deletable": true,
    "editable": true
   },
   "source": [
    "Η παράγωγος Lie στο Sage δίνεται από την εντολή (μέθοδο) <code> .lie_der() </code>"
   ]
  },
  {
   "cell_type": "markdown",
   "metadata": {
    "deletable": true,
    "editable": true
   },
   "source": [
    "---\n",
    "\n",
    "Η παράγωγος Lie $\\mathcal{L}_X Y$ είναι"
   ]
  },
  {
   "cell_type": "code",
   "execution_count": 8,
   "metadata": {
    "collapsed": false,
    "deletable": true,
    "editable": true
   },
   "outputs": [
    {
     "data": {
      "text/html": [
       "<html><script type=\"math/tex; mode=display\">\\newcommand{\\Bold}[1]{\\mathbf{#1}}2 \\, y \\frac{\\partial}{\\partial x } -x z \\frac{\\partial}{\\partial z }</script></html>"
      ],
      "text/plain": [
       "2*y d/dx - x*z d/dz"
      ]
     },
     "execution_count": 8,
     "metadata": {},
     "output_type": "execute_result"
    }
   ],
   "source": [
    "LxY = Y.lie_der(X) ; LxY.display()"
   ]
  },
  {
   "cell_type": "markdown",
   "metadata": {
    "deletable": true,
    "editable": true
   },
   "source": [
    "δηλαδή  $\\mathcal{L}_X Y = Y$\n",
    "\n",
    "---"
   ]
  },
  {
   "cell_type": "markdown",
   "metadata": {
    "deletable": true,
    "editable": true
   },
   "source": [
    "Η παράγωγος Lie $\\mathcal{L}_X Z$ είναι"
   ]
  },
  {
   "cell_type": "code",
   "execution_count": 9,
   "metadata": {
    "collapsed": false,
    "deletable": true,
    "editable": true
   },
   "outputs": [
    {
     "data": {
      "text/html": [
       "<html><script type=\"math/tex; mode=display\">\\newcommand{\\Bold}[1]{\\mathbf{#1}}8 \\, x y \\frac{\\partial}{\\partial x } + 8 \\, y^{2} \\frac{\\partial}{\\partial y } -2 \\, {\\left(x^{2} + 2 \\, y\\right)} z \\frac{\\partial}{\\partial z }</script></html>"
      ],
      "text/plain": [
       "8*x*y d/dx + 8*y^2 d/dy - 2*(x^2 + 2*y)*z d/dz"
      ]
     },
     "execution_count": 9,
     "metadata": {},
     "output_type": "execute_result"
    }
   ],
   "source": [
    "LxZ = Z.lie_der(X) ; LxZ.display()"
   ]
  },
  {
   "cell_type": "markdown",
   "metadata": {
    "deletable": true,
    "editable": true
   },
   "source": [
    "δηλαδή  $\\mathcal{L}_X Z = 2\\,Z$\n",
    "\n",
    "---"
   ]
  },
  {
   "cell_type": "markdown",
   "metadata": {
    "deletable": true,
    "editable": true
   },
   "source": [
    "Η παράγωγος Lie $\\mathcal{L}_Y Z$ είναι"
   ]
  },
  {
   "cell_type": "code",
   "execution_count": 10,
   "metadata": {
    "collapsed": false,
    "deletable": true,
    "editable": true
   },
   "outputs": [
    {
     "data": {
      "text/html": [
       "<html><script type=\"math/tex; mode=display\">\\newcommand{\\Bold}[1]{\\mathbf{#1}}0</script></html>"
      ],
      "text/plain": [
       "0"
      ]
     },
     "execution_count": 10,
     "metadata": {},
     "output_type": "execute_result"
    }
   ],
   "source": [
    "LyZ = Z.lie_der(Y) ; LyZ.display()"
   ]
  },
  {
   "cell_type": "markdown",
   "metadata": {
    "deletable": true,
    "editable": true
   },
   "source": [
    "δηλαδή  $\\mathcal{L}_Y Z = 0$\n",
    "\n",
    "---"
   ]
  },
  {
   "cell_type": "markdown",
   "metadata": {
    "deletable": true,
    "editable": true
   },
   "source": [
    "Η παράγωγος Lie $\\mathcal{L}_X \\omega$ είναι"
   ]
  },
  {
   "cell_type": "code",
   "execution_count": 11,
   "metadata": {
    "collapsed": false,
    "deletable": true,
    "editable": true
   },
   "outputs": [
    {
     "data": {
      "text/html": [
       "<html><script type=\"math/tex; mode=display\">\\newcommand{\\Bold}[1]{\\mathbf{#1}}2 \\, x \\mathrm{d} x -4 \\, y \\mathrm{d} y</script></html>"
      ],
      "text/plain": [
       "2*x dx - 4*y dy"
      ]
     },
     "execution_count": 11,
     "metadata": {},
     "output_type": "execute_result"
    }
   ],
   "source": [
    "Lxw = w.lie_der(X) ; Lxw.display()"
   ]
  },
  {
   "cell_type": "markdown",
   "metadata": {
    "deletable": true,
    "editable": true
   },
   "source": [
    "και τελικά η παράγωγος Lie  $\\mathcal{L}_Y \\omega$ είναι"
   ]
  },
  {
   "cell_type": "code",
   "execution_count": 12,
   "metadata": {
    "collapsed": false,
    "deletable": true,
    "editable": true
   },
   "outputs": [
    {
     "data": {
      "text/html": [
       "<html><script type=\"math/tex; mode=display\">\\newcommand{\\Bold}[1]{\\mathbf{#1}}\\left( 2 \\, y - z \\right) \\mathrm{d} x + 2 \\, x \\mathrm{d} y -x \\mathrm{d} z</script></html>"
      ],
      "text/plain": [
       "(2*y - z) dx + 2*x dy - x dz"
      ]
     },
     "execution_count": 12,
     "metadata": {},
     "output_type": "execute_result"
    }
   ],
   "source": [
    "Lyw = w.lie_der(Y) ; Lyw.display()"
   ]
  },
  {
   "cell_type": "code",
   "execution_count": null,
   "metadata": {
    "collapsed": true
   },
   "outputs": [],
   "source": []
  }
 ],
 "metadata": {
  "kernelspec": {
   "display_name": "SageMath 8.0",
   "language": "",
   "name": "sagemath"
  },
  "language_info": {
   "codemirror_mode": {
    "name": "ipython",
    "version": 2
   },
   "file_extension": ".py",
   "mimetype": "text/x-python",
   "name": "python",
   "nbconvert_exporter": "python",
   "pygments_lexer": "ipython2",
   "version": "2.7.13"
  }
 },
 "nbformat": 4,
 "nbformat_minor": 2
}
