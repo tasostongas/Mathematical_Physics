{
 "cells": [
  {
   "cell_type": "markdown",
   "metadata": {
    "deletable": true,
    "editable": true
   },
   "source": [
    "### Άσκηση 2 του φυλλάδιου ασκήσεων 15/03/2018 \n",
    "\n",
    "Το φύλλο εργασίας Jupyter/SageMath για την \n",
    "\n",
    "- Εύρεση των ροών των διανυσματικών πεδίων \n",
    "$$X(x,y) =  x\\,\\partial_x + y\\,\\partial_y\\,, \\qquad \n",
    "  Y(x,y) = -y\\,\\partial_x + x\\,\\partial_z\\,,$$ \n",
    "και της παραγώγου Lie $\\mathcal{L}_X Y$.\n",
    "<br><br>\n",
    "- Γραφική απεικόνιση της καμπύλης \n",
    "$$c(t) = \\big( \\tau_{-t} \\circ \\sigma_{-t}\\circ \\tau_t\\circ\n",
    "    \\sigma_t\\big)(1,0)\\,,\\quad t\\in \\big(0,\\frac{\\pi}{4}\\big)\\,. $$ <br>\n",
    "που παράγεται από τις ροές $\\sigma_t$ και $\\tau_s$ των διανυσματικών πεδίων $X$ και $Y$, αντίστοιχα. "
   ]
  },
  {
   "cell_type": "code",
   "execution_count": 1,
   "metadata": {
    "collapsed": true
   },
   "outputs": [],
   "source": [
    "%display latex"
   ]
  },
  {
   "cell_type": "markdown",
   "metadata": {
    "deletable": true,
    "editable": true
   },
   "source": [
    "---\n",
    "Πρώτα απ' όλα ορίζουμε στο Sage την πολλαπλότητα $M=\\mathbb{R}^2$, κι ένα χάρτη της $(U,\\phi)$ με συντεταγμένες $(x,y)$"
   ]
  },
  {
   "cell_type": "code",
   "execution_count": 2,
   "metadata": {
    "collapsed": false,
    "deletable": true,
    "editable": true
   },
   "outputs": [],
   "source": [
    "M = Manifold(2, 'R^2', '\\RR^2', start_index=1)\n",
    "U.<x,y> = M.chart()"
   ]
  },
  {
   "cell_type": "code",
   "execution_count": 3,
   "metadata": {
    "collapsed": false,
    "deletable": true,
    "editable": true
   },
   "outputs": [
    {
     "name": "stdout",
     "output_type": "stream",
     "text": [
      "2-dimensional differentiable manifold R^2\n",
      "Chart (R^2, (x, y))\n"
     ]
    }
   ],
   "source": [
    "print M ; \n",
    "print U ;"
   ]
  },
  {
   "cell_type": "markdown",
   "metadata": {
    "deletable": true,
    "editable": true
   },
   "source": [
    "Στην συνέχεια ορίζουμε τα διανυσματικά πεδία $X$ και $Y$"
   ]
  },
  {
   "cell_type": "code",
   "execution_count": 4,
   "metadata": {
    "collapsed": false,
    "deletable": true,
    "editable": true
   },
   "outputs": [
    {
     "data": {
      "text/html": [
       "<html><script type=\"math/tex; mode=display\">\\newcommand{\\Bold}[1]{\\mathbf{#1}}X = x \\frac{\\partial}{\\partial x } + y \\frac{\\partial}{\\partial y }</script></html>"
      ],
      "text/plain": [
       "X = x d/dx + y d/dy"
      ]
     },
     "execution_count": 4,
     "metadata": {},
     "output_type": "execute_result"
    }
   ],
   "source": [
    "X = M.vector_field('X')\n",
    "X[ : ] = ( x , y )\n",
    "X.display()"
   ]
  },
  {
   "cell_type": "code",
   "execution_count": 5,
   "metadata": {
    "collapsed": false,
    "deletable": true,
    "editable": true
   },
   "outputs": [
    {
     "data": {
      "text/html": [
       "<html><script type=\"math/tex; mode=display\">\\newcommand{\\Bold}[1]{\\mathbf{#1}}Y = -y \\frac{\\partial}{\\partial x } + x \\frac{\\partial}{\\partial y }</script></html>"
      ],
      "text/plain": [
       "Y = -y d/dx + x d/dy"
      ]
     },
     "execution_count": 5,
     "metadata": {},
     "output_type": "execute_result"
    }
   ],
   "source": [
    "Y = M.vector_field('Y')\n",
    "Y[ : ] = ( -y , x )\n",
    "Y.display()"
   ]
  },
  {
   "cell_type": "markdown",
   "metadata": {
    "deletable": true,
    "editable": true
   },
   "source": [
    "Η παράγωγος Lie στο Sage δίνεται από την εντολή (μέθοδο) <code> .lie_der() </code>"
   ]
  },
  {
   "cell_type": "markdown",
   "metadata": {
    "deletable": true,
    "editable": true
   },
   "source": [
    "---\n",
    "\n",
    "Η παράγωγος Lie $\\mathcal{L}_X Y$ είναι"
   ]
  },
  {
   "cell_type": "code",
   "execution_count": 6,
   "metadata": {
    "collapsed": false,
    "deletable": true,
    "editable": true
   },
   "outputs": [
    {
     "data": {
      "text/html": [
       "<html><script type=\"math/tex; mode=display\">\\newcommand{\\Bold}[1]{\\mathbf{#1}}0</script></html>"
      ],
      "text/plain": [
       "0"
      ]
     },
     "execution_count": 6,
     "metadata": {},
     "output_type": "execute_result"
    }
   ],
   "source": [
    "LxY = Y.lie_der(X) ; LxY.display()"
   ]
  },
  {
   "cell_type": "markdown",
   "metadata": {
    "deletable": true,
    "editable": true
   },
   "source": [
    "δηλαδή  $\\mathcal{L}_X Y = [\\,X\\, ,\\, Y\\,] = 0$.\n",
    "\n",
    "---"
   ]
  },
  {
   "cell_type": "markdown",
   "metadata": {
    "deletable": true,
    "editable": true
   },
   "source": [
    "### Υπολογισμός ροών\n",
    "Για τον υπολογισμό των ροών $\\sigma_t$ και $\\tau_s$ των διανυσματικών πεδίων $X$ και $Y$, αντίστοιχα, πρέπει να λύσουμε (ξεχωριστά) τα παρακάτω προβλήματα αρχικών τιμών (πατ) <br><br>\n",
    "\\begin{align*}\n",
    "\\dot x(t) &= x(t) \\qquad \\qquad & \\dot x(s) &= -y(s) \\\\ \n",
    "\\dot y(t) &= y(t)  \\qquad \\qquad & \\dot y(s) &= x(s) \\\\\n",
    "\\end{align*}<br>\n",
    "με αρχικές τιμές $x(0)=x_0$, $y(0)=y_0$. Στα παρακάτω λύνουμε συμβολικά τα πατ με το Sage!"
   ]
  },
  {
   "cell_type": "code",
   "execution_count": 7,
   "metadata": {
    "collapsed": false,
    "deletable": true,
    "editable": true
   },
   "outputs": [
    {
     "name": "stdout",
     "output_type": "stream",
     "text": [
      "[x1(t) == x0*e^t, y1(t) == y0*e^t]\n"
     ]
    }
   ],
   "source": [
    "var('t , x0 , y0');\n",
    "x1 = function('x1')(t);\n",
    "y1 = function('y1')(t);\n",
    "XX = vector( [ x1 , y1 ] )\n",
    "A = matrix([[1,0],[0,1]])\n",
    "systemX = [diff(XX[i], t) - (A*XX)[i] for i in range(2)]\n",
    "sol1 = desolve_system(systemX, [x1,y1] , ivar=t, ics=[0,x0,y0]); print sol1"
   ]
  },
  {
   "cell_type": "markdown",
   "metadata": {
    "deletable": true,
    "editable": true
   },
   "source": [
    "Άρα έχουμε ότι $\\sigma\\big(t,(x_0,y_0)\\big) = (\\, x_0 e^t\\, ,\\, y_0\\,e^t\\,)$, ενώ παρόμοια για την ροή του $Y$  έχουμε"
   ]
  },
  {
   "cell_type": "code",
   "execution_count": 8,
   "metadata": {
    "collapsed": false,
    "deletable": true,
    "editable": true
   },
   "outputs": [
    {
     "name": "stdout",
     "output_type": "stream",
     "text": [
      "[x2(s) == x0*cos(s) - y0*sin(s), y2(s) == y0*cos(s) + x0*sin(s)]\n"
     ]
    }
   ],
   "source": [
    "var('s , x0 , y0');\n",
    "x2 = function('x2')(s);\n",
    "y2 = function('y2')(s);\n",
    "YY = vector( [ x2 , y2 ] )\n",
    "B = matrix([[0,-1],[1,0]])\n",
    "systemY = [diff(YY[i], s) - (B*YY)[i] for i in range(2)]\n",
    "sol2 = desolve_system(systemY, [x2,y2] , ivar=s, ics=[0,x0,y0]); print sol2"
   ]
  },
  {
   "cell_type": "markdown",
   "metadata": {
    "deletable": true,
    "editable": true
   },
   "source": [
    "Δηλαδή, $\\tau\\big(s,(x_0,y_0)\\big) = \n",
    "(\\, x_0 \\, \\cos s - y_0 \\, \\sin s\\, ,\\, y_0\\,\\cos s + x_0\\, \\sin s)$. \n",
    "\n",
    "---"
   ]
  },
  {
   "cell_type": "markdown",
   "metadata": {
    "deletable": true,
    "editable": true
   },
   "source": [
    "### Γραφική απεικόνιση της καμπύλης \n",
    "$$c(t) = \\big( \\tau_{-t} \\circ \\sigma_{-t}\\circ \\tau_t\\circ\n",
    "    \\sigma_t\\big)(1,0)\\,,\\quad t\\in \\big(0,\\frac{\\pi}{4}\\big)\\,. $$<br>\n",
    "που παράγεται από τις ροές $\\sigma_t$ και $\\tau_s$ των διαν. πεδίων $X$ και $Y$, αντίστοιχα. "
   ]
  },
  {
   "cell_type": "code",
   "execution_count": 9,
   "metadata": {
    "collapsed": false,
    "deletable": true,
    "editable": true
   },
   "outputs": [],
   "source": [
    "sigma_x(t,x0,y0)  =  sol1[0].rhs() \n",
    "sigma_y(t,x0,y0)  =  sol1[1].rhs() \n",
    "tau_x(s,x0,y0)    =  sol2[0].rhs() \n",
    "tau_y(s,x0,y0)    =  sol2[1].rhs() "
   ]
  },
  {
   "cell_type": "code",
   "execution_count": 10,
   "metadata": {
    "collapsed": false,
    "deletable": true,
    "editable": true
   },
   "outputs": [
    {
     "data": {
      "image/png": "[encoded data removed]",
      "text/plain": [
       "Graphics object consisting of 10 graphics primitives"
      ]
     },
     "metadata": {},
     "output_type": "display_data"
    }
   ],
   "source": [
    "# Αρχικό σημείο\n",
    "\n",
    "(x0 , y0) = (1 , 0)\n",
    "pp = point( (x0,y0) , pointsize=70,color='black')\n",
    "\n",
    "# Πρώτα στην κατεύθυνση της ροής που παράγεται από το X\n",
    "\n",
    "p1 = parametric_plot( ( sigma_x(t,x0,y0) , sigma_y(t,x0,y0) ) , \n",
    "                     (t, 0, pi/4),color='blue', thickness=2) ; \n",
    "(x1 , y1) = ( sigma_x(pi/4,x0,y0) , sigma_y(pi/4,x0,y0)   ) ;\n",
    "ar1 = arrow( (x1, y1),(x1+0.0001,y1))\n",
    "\n",
    "# Έπειτα στην κατεύθυνση της ροής που παράγεται από το Υ από το σημείο ( X1 , Y1)\n",
    "\n",
    "p2 = parametric_plot( ( tau_x(t,x1,y1) , tau_y(t,x1,y1) ) , \n",
    "                     (t, 0, pi/4),color='red', thickness=2) ; \n",
    "(x2 , y2) = ( ( tau_x(pi/4,x1,y1) , tau_y(pi/4,x1,y1) )  ) ;\n",
    "ar2 = arrow( (x2, y2),(x2-0.0001,y2+0.0001), color='red')\n",
    "\n",
    "# Μετά στην κατεύθυνση της ροής που παράγεται από το X από το σημείο ( Χ2 , Υ2 ), αντίστροφα ! (t -> -t)\n",
    "\n",
    "p3 = parametric_plot( ( sigma_x(-t,x2,y2) , sigma_y(-t,x2,y2) ) , \n",
    "                     (t, 0, pi/4),color='blue', thickness=2) ; \n",
    "(x3, y3 ) = ( sigma_x(-pi/4,x2,y2) , sigma_y(-pi/4,x2,y2) ) ;\n",
    "ar3 = arrow( (x3, y3),(x3-0.0001,y3-0.0001), color='blue')\n",
    "\n",
    "# Και τέλος την κατεύθυνση της ροής που παράγεται από το Y από το σημείο ( Χ3 , Υ3 ), αντίστροφα ! (t -> -t)\n",
    "\n",
    "p4 = parametric_plot( ( tau_x(-t,x3,y3) , tau_y(-t,x3,y3) ) , \n",
    "                     (t, 0, pi/4),color='red', thickness=2) ; \n",
    "ar4 = arrow( (x0, y0+0.0001),(x0,y0), color='red')\n",
    "\n",
    "# Γραφική απεικόνιση όλων παραπάνω στο ίδιο γραφικό\n",
    "\n",
    "(pp+p1+p2+p3+p4+ar1+ar2+ar3+ar4).show(figsize=5,xmin=0,xmax=3,ymin=0,ymax=2,axes_labels=['$x$','$y$'])"
   ]
  },
  {
   "cell_type": "markdown",
   "metadata": {
    "collapsed": true,
    "deletable": true,
    "editable": true
   },
   "source": [
    "### *Συμπεράσματα :*\n",
    "\n",
    "Από το παραπάνω σχήμα της καμπύλης $s(t)$ παρατηρούμε ότι ξεκινώντας από το σημείο $(1,0)$ και ταξιδεύοντας κατά μήκος των ροών $\\sigma_t$, $\\tau_t$, $\\sigma_{-t}$, και $\\tau_{-t}$ επιστρέψαμε στο αρχικό σημείο $(1,0)$. Πράγματι"
   ]
  },
  {
   "cell_type": "code",
   "execution_count": 11,
   "metadata": {
    "collapsed": false
   },
   "outputs": [
    {
     "name": "stdout",
     "output_type": "stream",
     "text": [
      "( 1 , 0 ) σημείο αφετηρίας της καμπύλης\n",
      "( 1 , 0 ) σημείο τερματισμού της καμπύλης\n"
     ]
    }
   ],
   "source": [
    "print '(', x0 ,',', y0 ,')' , 'σημείο αφετηρίας της καμπύλης'\n",
    "print '(', tau_x(-pi/4,x3,y3) ,',', tau_y(-pi/4,x3,y3) ,')' , 'σημείο τερματισμού της καμπύλης'"
   ]
  },
  {
   "cell_type": "markdown",
   "metadata": {},
   "source": [
    "Αυτό δικαιλογείται από το γεγονός ότι η αγκύλη Lie $[\\,X\\,,\\,Y\\,]$ των διανυσματικών πεδίων $X$, $Y$, \n",
    "μετρά την αστοχία να κλείσει το \"παραλληλόγραμμο\" <br><br>\n",
    "$$  \\tau(\\delta,\\sigma(\\varepsilon,x)) \\phantom{o}_{\\longrightarrow}\\!\\!\\!\\uparrow \\qquad  \\sigma(\\varepsilon,\\tau(\\delta,x) \\uparrow^{\\longrightarrow}$$\n",
    "\n",
    "Στην προκειμένη περίπτωση των ροών $\\sigma_t$ και $\\tau_s$ που παράγονται από τα διανυσματικά πεδία $X$, $Y$, αντίστοιχα,  οποιοδήποτε τέτοιο παραλληλόγραμμο κλείνει αφού ${\\mathcal{L}}_X Y = [\\,X\\,,\\,Y\\,]=0$.\n"
   ]
  },
  {
   "cell_type": "code",
   "execution_count": null,
   "metadata": {
    "collapsed": true
   },
   "outputs": [],
   "source": []
  }
 ],
 "metadata": {
  "kernelspec": {
   "display_name": "SageMath 8.0",
   "language": "",
   "name": "sagemath"
  },
  "language_info": {
   "codemirror_mode": {
    "name": "ipython",
    "version": 2
   },
   "file_extension": ".py",
   "mimetype": "text/x-python",
   "name": "python",
   "nbconvert_exporter": "python",
   "pygments_lexer": "ipython2",
   "version": "2.7.13"
  }
 },
 "nbformat": 4,
 "nbformat_minor": 2
}
